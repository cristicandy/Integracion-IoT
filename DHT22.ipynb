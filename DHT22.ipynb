{
 "cells": [
  {
   "cell_type": "code",
   "execution_count": null,
   "id": "91986f6e-4448-474c-a233-371996f12015",
   "metadata": {},
   "outputs": [],
   "source": [
    "import Adafruit_DHT as dht\n",
    "import time\n",
    "import mysql.connector as mysql\n",
    "import paho.mqtt.client as mqtt\n",
    "import struct\n",
    "\n",
    "sensor = dht.DHT22\n",
    "db = mysql.connect(host=\"54.243.27.178\", user=\"usuario\", passwd=\"contraseña\", database=\"BDDWINE\")\n",
    "cursor = db.cursor()\n",
    "query = 'INSERT INTO ReadDHT22(Atemperatura, humedad) VALUE(%s, %s)'\n",
    "\n",
    "cliente = mqtt.Client()\n",
    "cliente.username_pw_set(username=\"tesis\",password=\"contraseña\")\n",
    "cliente.connect(\"54.243.27.178\",1883)\n",
    "\n",
    "datos = [0.0,0.0]\n",
    "try:\n",
    "    while True:\n",
    "        h, t = dht.read_retry(sensor, 4)\n",
    "        if h is not None and t is not None:\n",
    "            temperature = round(t, 2)\n",
    "            humidity = round(h, 2)\n",
    "            print(f\"Temperatura = {temperature} oC, Humedad = {humidity} %\")\n",
    "            cursor.execute(query,(temperature, humidity))\n",
    "            db.commit()\n",
    "            print(\"Lectura insertada en la base de datos\")\n",
    "            # Preparar los datos como bytes\n",
    "            datos[0] = temperature\n",
    "            datos[1] = humidity\n",
    "            # Publicar los datos en el broker MQTT\n",
    "            cliente.publish(\"demo\", struct.pack(\"ff\",*datos))\n",
    "        else:\n",
    "            print(\"Error al leer el sensor\")\n",
    "        time.sleep(14400)\n",
    "        \n",
    "except KeyboardInterrupt:\n",
    "    print(\"Fin de programa\")\n",
    "\n",
    "finally:\n",
    "    if db is not None and db.is_connected():\n",
    "        cursor.close()\n",
    "        print(\"Conexion a la base de datos cerrada\")\n"
   ]
  }
 ],
 "metadata": {
  "kernelspec": {
   "display_name": "Python 3 (ipykernel)",
   "language": "python",
   "name": "python3"
  },
  "language_info": {
   "codemirror_mode": {
    "name": "ipython",
    "version": 3
   },
   "file_extension": ".py",
   "mimetype": "text/x-python",
   "name": "python",
   "nbconvert_exporter": "python",
   "pygments_lexer": "ipython3",
   "version": "3.9.13"
  }
 },
 "nbformat": 4,
 "nbformat_minor": 5
}

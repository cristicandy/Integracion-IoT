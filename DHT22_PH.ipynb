{
 "cells": [
  {
   "cell_type": "code",
   "execution_count": null,
   "id": "33afe1c4-82c7-4b1f-9b94-6a8f48b9ad7e",
   "metadata": {},
   "outputs": [],
   "source": [
    "import serial\n",
    "import re\n",
    "import mysql.connector as mysql\n",
    "import time\n",
    "import paho.mqtt.client as mqtt\n",
    "import json\n",
    "import Adafruit_DHT as dht\n",
    "serial_sensor = serial.Serial(\"/dev/ttyACM0\", 115200)\n",
    "dht_sensor = dht.DHT22\n",
    "db = mysql.connect(host=\"98.81.220.163\", user=\"usuario\", passwd=\"contraseña\", database=\"BDDWINE\")\n",
    "cursor = db.cursor()\n",
    "query_ph = 'INSERT INTO ReadPH(PH) VALUES (%s)'\n",
    "query_dht = 'INSERT INTO ReadDHT22(Atemperatura, humedad) VALUES (%s, %s)'\n",
    "cliente_mqtt = mqtt.Client()\n",
    "cliente_mqtt.username_pw_set(username=\"usuario\", password=\" contraseña \")\n",
    "cliente_mqtt.connect(\"98.81.220.163\", 1883)\n",
    "try:\n",
    "    while True:\n",
    "        dato = serial_sensor.readline().decode().strip()\n",
    "        match = re.search(r\"pH:\\s*([0-9]*\\.?[0-9]+)\", dato, re.IGNORECASE)      \n",
    "        if match:\n",
    "            PH = round(float(match.group(1)), 2)\n",
    "            print(f\"pH = {PH}\")\n",
    "            cursor.execute(query_ph, (PH,))\n",
    "            db.commit()\n",
    "            print(\"Lectura de pH insertada en la base de datos\")\n",
    "            datos_dict = {'PH': PH}\n",
    "            datos_json = json.dumps(datos_dict)\n",
    "            cliente_mqtt.publish(\"readPH\", datos_json)\n",
    "            print(\"Datos de pH publicados en MQTT\")\n",
    "        else:\n",
    "            print(\"Error al leer el sensor pH\")\n",
    "        humidity, temperature = dht.read_retry(dht_sensor, 4)\n",
    "        if humidity is not None and temperature is not None:\n",
    "            temperature = round(temperature, 2)\n",
    "            humidity = round(humidity, 2)\n",
    "            print(f\"Temperatura = {temperature} oC, Humedad = {humidity} %\")\n",
    "            cursor.execute(query_dht, (temperature, humidity))\n",
    "            db.commit()\n",
    "            print(\"Lectura de DHT22 insertada en la base de datos\")\n",
    "            datos_dict = {\n",
    "                'temperature': temperature,\n",
    "                'humidity': humidity\n",
    "            }\n",
    "            datos_json = json.dumps(datos_dict)\n",
    "            cliente_mqtt.publish(\"readDHT22\", datos_json)\n",
    "            print(\"Datos de DHT22 publicados en MQTT\")\n",
    "        else:\n",
    "            print(\"Error al leer el sensor DHT22\")\n",
    "        time.sleep(14400)\n",
    "except KeyboardInterrupt:\n",
    "    print(\"Fin de programa\")\n"
   ]
  }
 ],
 "metadata": {
  "kernelspec": {
   "display_name": "Python 3 (ipykernel)",
   "language": "python",
   "name": "python3"
  },
  "language_info": {
   "codemirror_mode": {
    "name": "ipython",
    "version": 3
   },
   "file_extension": ".py",
   "mimetype": "text/x-python",
   "name": "python",
   "nbconvert_exporter": "python",
   "pygments_lexer": "ipython3",
   "version": "3.9.13"
  }
 },
 "nbformat": 4,
 "nbformat_minor": 5
}
